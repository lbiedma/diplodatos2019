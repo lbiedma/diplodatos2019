{
 "cells": [
  {
   "cell_type": "markdown",
   "metadata": {},
   "source": [
    "# Análisis de datos financieros\n",
    "\n",
    "En finanzas, la creación de un portafolio de inversiones que se adecúe a las necesidades y perfil de una persona es de gran importancia, no sólo normativa si no para que duerma un poco más tranquila por las noches.\n",
    "\n",
    "Para eso, es necesario revisar muchas variables, desde precios de activos, hasta cotizaciones de monedas o variables macroeconómicas. En este primer práctico vamos a entender un poco más sobre el dolar y sus diferentes cotizaciones, cómo podemos hacer un proxy de la misma para invertir en la bolsa y qué oportunidades de inversión podemos encontrar en base a eso.\n",
    "\n",
    "Empecemos con la obtención de datos, a partir de la web de RAVA (hay un backup en el repo)."
   ]
  },
  {
   "cell_type": "code",
   "execution_count": 2,
   "metadata": {},
   "outputs": [],
   "source": [
    "import requests\n",
    "import pandas as pd\n",
    "import numpy as np\n",
    "import matplotlib.pyplot as plt\n",
    "import datetime\n",
    "from scipy import optimize\n",
    "%matplotlib inline\n",
    "import sys\n",
    "from io import StringIO\n",
    "# SOLO STOCKS QUE COMENZARON EN 2016\n",
    "bonds = ['AO20', 'AO20D', 'AA37', 'AA37D', 'AY24', 'AY24D',\n",
    "          'DICA', 'DICAD', 'AA25', 'AA25D', 'CO26', 'CO26D',\n",
    "          'A2E2', 'A2E2D']"
   ]
  },
  {
   "cell_type": "code",
   "execution_count": 3,
   "metadata": {},
   "outputs": [],
   "source": [
    "for bond in bonds:\n",
    "    url = 'http://www.ravabursatil.com/v2/empresas/precioshistoricos.php?e={}&csv=1'.format(bond)\n",
    "    req = requests.get(url, allow_redirects=True)\n",
    "    df = pd.read_csv(StringIO(req.content.decode(\"utf-8\")))\n",
    "    name = '{}.csv'.format(bond)\n",
    "    df.to_csv(name)"
   ]
  },
  {
   "cell_type": "markdown",
   "metadata": {},
   "source": [
    "# Cómo seguimos?\n",
    "\n",
    "Un bono es una especie de préstamo que pide un ente (nación, provincia, ciudad, compañía) con el objetivo de mejorar algo en su infraestructura o funcionamiento, con promesa de pagos de intereses en el camino a su vencimiento.\n",
    "\n",
    "Para más información, se puede visitar [Este link (con chivo)](https://www.invera.com.ar) o, para más información aún, se puede usar [Investopedia](https://www.investopedia.com) para cualquier duda con respecto al mundo de las inversiones.\n",
    "\n",
    "Las cotizaciones de los mismos están en dólares y pesos, para algunos en particular. Luego, pasaremos a revisar cotizaciones históricas del dólar."
   ]
  },
  {
   "cell_type": "code",
   "execution_count": 4,
   "metadata": {},
   "outputs": [
    {
     "data": {
      "text/html": [
       "<div>\n",
       "<style scoped>\n",
       "    .dataframe tbody tr th:only-of-type {\n",
       "        vertical-align: middle;\n",
       "    }\n",
       "\n",
       "    .dataframe tbody tr th {\n",
       "        vertical-align: top;\n",
       "    }\n",
       "\n",
       "    .dataframe thead th {\n",
       "        text-align: right;\n",
       "    }\n",
       "</style>\n",
       "<table border=\"1\" class=\"dataframe\">\n",
       "  <thead>\n",
       "    <tr style=\"text-align: right;\">\n",
       "      <th></th>\n",
       "      <th>Unnamed: 0</th>\n",
       "      <th>created</th>\n",
       "      <th>updated</th>\n",
       "      <th>currency</th>\n",
       "      <th>exchange_rate</th>\n",
       "      <th>exchange_date</th>\n",
       "      <th>exchange_rate_buy</th>\n",
       "    </tr>\n",
       "  </thead>\n",
       "  <tbody>\n",
       "    <tr>\n",
       "      <th>0</th>\n",
       "      <td>0</td>\n",
       "      <td>2019-04-01 16:30:24</td>\n",
       "      <td>2019-04-01 19:30:24</td>\n",
       "      <td>USD_BN</td>\n",
       "      <td>43.7</td>\n",
       "      <td>2019-04-01 19:30:25</td>\n",
       "      <td>41.7</td>\n",
       "    </tr>\n",
       "    <tr>\n",
       "      <th>1</th>\n",
       "      <td>1</td>\n",
       "      <td>2019-04-01 16:00:26</td>\n",
       "      <td>2019-04-01 19:00:26</td>\n",
       "      <td>USD_BN</td>\n",
       "      <td>43.7</td>\n",
       "      <td>2019-04-01 19:00:27</td>\n",
       "      <td>41.7</td>\n",
       "    </tr>\n",
       "    <tr>\n",
       "      <th>2</th>\n",
       "      <td>2</td>\n",
       "      <td>2019-04-01 15:30:25</td>\n",
       "      <td>2019-04-01 18:30:25</td>\n",
       "      <td>USD_BN</td>\n",
       "      <td>43.7</td>\n",
       "      <td>2019-04-01 18:30:25</td>\n",
       "      <td>41.7</td>\n",
       "    </tr>\n",
       "    <tr>\n",
       "      <th>3</th>\n",
       "      <td>3</td>\n",
       "      <td>2019-04-01 15:00:25</td>\n",
       "      <td>2019-04-01 18:00:25</td>\n",
       "      <td>USD_BN</td>\n",
       "      <td>43.7</td>\n",
       "      <td>2019-04-01 18:00:27</td>\n",
       "      <td>41.7</td>\n",
       "    </tr>\n",
       "    <tr>\n",
       "      <th>4</th>\n",
       "      <td>4</td>\n",
       "      <td>2019-04-01 14:30:24</td>\n",
       "      <td>2019-04-01 17:30:24</td>\n",
       "      <td>USD_BN</td>\n",
       "      <td>43.7</td>\n",
       "      <td>2019-04-01 17:30:26</td>\n",
       "      <td>41.7</td>\n",
       "    </tr>\n",
       "  </tbody>\n",
       "</table>\n",
       "</div>"
      ],
      "text/plain": [
       "   Unnamed: 0              created              updated currency  \\\n",
       "0           0  2019-04-01 16:30:24  2019-04-01 19:30:24   USD_BN   \n",
       "1           1  2019-04-01 16:00:26  2019-04-01 19:00:26   USD_BN   \n",
       "2           2  2019-04-01 15:30:25  2019-04-01 18:30:25   USD_BN   \n",
       "3           3  2019-04-01 15:00:25  2019-04-01 18:00:25   USD_BN   \n",
       "4           4  2019-04-01 14:30:24  2019-04-01 17:30:24   USD_BN   \n",
       "\n",
       "   exchange_rate        exchange_date  exchange_rate_buy  \n",
       "0           43.7  2019-04-01 19:30:25               41.7  \n",
       "1           43.7  2019-04-01 19:00:27               41.7  \n",
       "2           43.7  2019-04-01 18:30:25               41.7  \n",
       "3           43.7  2019-04-01 18:00:27               41.7  \n",
       "4           43.7  2019-04-01 17:30:26               41.7  "
      ]
     },
     "execution_count": 4,
     "metadata": {},
     "output_type": "execute_result"
    }
   ],
   "source": [
    "df = pd.read_csv('dolarbna.csv')\n",
    "df.head()"
   ]
  },
  {
   "cell_type": "markdown",
   "metadata": {},
   "source": [
    "Como primera consigna, la cotización del dólar del BNA abre a las 10 AM y cierra a las 15 PM, podemos armar un dataset que, para cada día, tenga la cotización de cierre del precio del dólar. La columna de venta (la más vista por la gente) es la de 'exchange_rate'."
   ]
  },
  {
   "cell_type": "code",
   "execution_count": 10,
   "metadata": {},
   "outputs": [],
   "source": []
  },
  {
   "cell_type": "markdown",
   "metadata": {},
   "source": [
    "Vamos a cargar ahora las cotizaciones de los bonos y explorar un poquito... Revisemos el dataset del Bonar 2024 (AY24)."
   ]
  },
  {
   "cell_type": "code",
   "execution_count": 5,
   "metadata": {},
   "outputs": [
    {
     "data": {
      "text/html": [
       "<div>\n",
       "<style scoped>\n",
       "    .dataframe tbody tr th:only-of-type {\n",
       "        vertical-align: middle;\n",
       "    }\n",
       "\n",
       "    .dataframe tbody tr th {\n",
       "        vertical-align: top;\n",
       "    }\n",
       "\n",
       "    .dataframe thead th {\n",
       "        text-align: right;\n",
       "    }\n",
       "</style>\n",
       "<table border=\"1\" class=\"dataframe\">\n",
       "  <thead>\n",
       "    <tr style=\"text-align: right;\">\n",
       "      <th></th>\n",
       "      <th>Unnamed: 0</th>\n",
       "      <th>fecha</th>\n",
       "      <th>apertura</th>\n",
       "      <th>maximo</th>\n",
       "      <th>minimo</th>\n",
       "      <th>cierre</th>\n",
       "      <th>volumen</th>\n",
       "      <th>openint</th>\n",
       "    </tr>\n",
       "  </thead>\n",
       "  <tbody>\n",
       "    <tr>\n",
       "      <th>0</th>\n",
       "      <td>0</td>\n",
       "      <td>2014-05-13</td>\n",
       "      <td>861.00000</td>\n",
       "      <td>880.00</td>\n",
       "      <td>861.0</td>\n",
       "      <td>880.00000</td>\n",
       "      <td>2756877</td>\n",
       "      <td>0</td>\n",
       "    </tr>\n",
       "    <tr>\n",
       "      <th>1</th>\n",
       "      <td>1</td>\n",
       "      <td>2014-05-14</td>\n",
       "      <td>883.00000</td>\n",
       "      <td>915.00</td>\n",
       "      <td>882.0</td>\n",
       "      <td>907.00000</td>\n",
       "      <td>23301196</td>\n",
       "      <td>0</td>\n",
       "    </tr>\n",
       "    <tr>\n",
       "      <th>2</th>\n",
       "      <td>2</td>\n",
       "      <td>2014-05-15</td>\n",
       "      <td>910.04999</td>\n",
       "      <td>927.45</td>\n",
       "      <td>899.5</td>\n",
       "      <td>922.00000</td>\n",
       "      <td>22532616</td>\n",
       "      <td>0</td>\n",
       "    </tr>\n",
       "    <tr>\n",
       "      <th>3</th>\n",
       "      <td>3</td>\n",
       "      <td>2014-05-16</td>\n",
       "      <td>925.00000</td>\n",
       "      <td>935.00</td>\n",
       "      <td>923.0</td>\n",
       "      <td>934.40002</td>\n",
       "      <td>32249204</td>\n",
       "      <td>0</td>\n",
       "    </tr>\n",
       "    <tr>\n",
       "      <th>4</th>\n",
       "      <td>4</td>\n",
       "      <td>2014-05-19</td>\n",
       "      <td>937.00000</td>\n",
       "      <td>974.00</td>\n",
       "      <td>936.0</td>\n",
       "      <td>970.00000</td>\n",
       "      <td>18602860</td>\n",
       "      <td>0</td>\n",
       "    </tr>\n",
       "  </tbody>\n",
       "</table>\n",
       "</div>"
      ],
      "text/plain": [
       "   Unnamed: 0       fecha   apertura  maximo  minimo     cierre   volumen  \\\n",
       "0           0  2014-05-13  861.00000  880.00   861.0  880.00000   2756877   \n",
       "1           1  2014-05-14  883.00000  915.00   882.0  907.00000  23301196   \n",
       "2           2  2014-05-15  910.04999  927.45   899.5  922.00000  22532616   \n",
       "3           3  2014-05-16  925.00000  935.00   923.0  934.40002  32249204   \n",
       "4           4  2014-05-19  937.00000  974.00   936.0  970.00000  18602860   \n",
       "\n",
       "   openint  \n",
       "0        0  \n",
       "1        0  \n",
       "2        0  \n",
       "3        0  \n",
       "4        0  "
      ]
     },
     "execution_count": 5,
     "metadata": {},
     "output_type": "execute_result"
    }
   ],
   "source": [
    "ay24 = pd.read_csv('AY24.csv')\n",
    "ay24.head()"
   ]
  },
  {
   "cell_type": "markdown",
   "metadata": {},
   "source": [
    "Empecemos a limpiar un poco los datasets.\n",
    "\n",
    "- Tenemos algunas columnas que no sirven para nada, como 'Unnamed'.\n",
    "- Es realmente inservible 'openint'? Sin saber qué significa, podemos decidir si nos va a servir para algo?\n",
    "- Al igual que con el dólar, necesitamos un dataset que, para cada día tenga el último precio de negociación, indicado por la columna 'cierre'.\n",
    "- Podemos plotear este dataset que creamos?"
   ]
  },
  {
   "cell_type": "code",
   "execution_count": null,
   "metadata": {},
   "outputs": [],
   "source": []
  },
  {
   "cell_type": "markdown",
   "metadata": {},
   "source": [
    "Es posible sacar alguna estadística útil para este dataset? Desde el ploteo no lo parece...\n",
    "Lo importante en finanzas es ver cuánto varía el precio de un activo desde un cierre hasta el próximo, para eso existe el muy útil método pct_change()."
   ]
  },
  {
   "cell_type": "code",
   "execution_count": null,
   "metadata": {},
   "outputs": [],
   "source": []
  },
  {
   "cell_type": "markdown",
   "metadata": {},
   "source": [
    "Parece que va a ser más sencillo revisar algo en este espacio:\n",
    "\n",
    "- Veamos estadísticas básicas (media, desviación estándar, moda).\n",
    "- Una afirmación que se suele hacer con los retornos diarios de bonos y acciones, es que se asemejan bastante a una distribución normal. Es así en este caso?\n"
   ]
  },
  {
   "cell_type": "code",
   "execution_count": null,
   "metadata": {},
   "outputs": [],
   "source": []
  },
  {
   "cell_type": "markdown",
   "metadata": {},
   "source": [
    "Bueno, ahora que nos acomodamos un poco con los datos, vamos a leer el dataset de precios en dólares del AY24, cuyo ticker (abreviación) es AY24D y apliquemos lo mismo que hicimos antes."
   ]
  },
  {
   "cell_type": "code",
   "execution_count": null,
   "metadata": {},
   "outputs": [],
   "source": []
  },
  {
   "cell_type": "markdown",
   "metadata": {},
   "source": [
    "Vamos a inventarnos una cotización del dólar \"nuestra\", dividamos el "
   ]
  }
 ],
 "metadata": {
  "kernelspec": {
   "display_name": "Python 3",
   "language": "python",
   "name": "python3"
  },
  "language_info": {
   "codemirror_mode": {
    "name": "ipython",
    "version": 3
   },
   "file_extension": ".py",
   "mimetype": "text/x-python",
   "name": "python",
   "nbconvert_exporter": "python",
   "pygments_lexer": "ipython3",
   "version": "3.5.6"
  }
 },
 "nbformat": 4,
 "nbformat_minor": 2
}
